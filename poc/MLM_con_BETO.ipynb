{
  "nbformat": 4,
  "nbformat_minor": 0,
  "metadata": {
    "colab": {
      "name": "MLM con BETO.ipynb",
      "provenance": [],
      "authorship_tag": "ABX9TyMNwGzd2u+xRLZGRqW/p/VJ",
      "include_colab_link": true
    },
    "kernelspec": {
      "name": "python3",
      "display_name": "Python 3"
    }
  },
  "cells": [
    {
      "cell_type": "markdown",
      "metadata": {
        "id": "view-in-github",
        "colab_type": "text"
      },
      "source": [
        "<a href=\"https://colab.research.google.com/github/manmorjim/andaluh-ml/blob/poc%2Fmlm_beto/MLM_con_BETO.ipynb\" target=\"_parent\"><img src=\"https://colab.research.google.com/assets/colab-badge.svg\" alt=\"Open In Colab\"/></a>"
      ]
    },
    {
      "cell_type": "code",
      "metadata": {
        "id": "-gF8nXOHxxPD",
        "colab_type": "code",
        "colab": {}
      },
      "source": [
        "# install depenencies\n",
        "!pip install andaluh\n",
        "!pip install transformers"
      ],
      "execution_count": null,
      "outputs": []
    },
    {
      "cell_type": "code",
      "metadata": {
        "id": "cOV8G_K23nIP",
        "colab_type": "code",
        "colab": {}
      },
      "source": [
        "# needed files\n",
        "!wget https://users.dcc.uchile.cl/~jperez/beto/cased_2M/pytorch_weights.tar.gz \n",
        "!wget https://users.dcc.uchile.cl/~jperez/beto/cased_2M/vocab.txt \n",
        "!wget https://users.dcc.uchile.cl/~jperez/beto/cased_2M/config.json \n",
        "!wget https://github.com/FernanOrtega/andaluh-tests/raw/master/homographs.csv\n",
        "!tar -xzvf pytorch_weights.tar.gz\n",
        "!mv config.json pytorch/.\n",
        "!mv vocab.txt pytorch/."
      ],
      "execution_count": null,
      "outputs": []
    },
    {
      "cell_type": "code",
      "metadata": {
        "id": "hf4pCM0fyTr6",
        "colab_type": "code",
        "colab": {}
      },
      "source": [
        "import csv\n",
        "import torch\n",
        "from transformers import BertForMaskedLM, BertTokenizer"
      ],
      "execution_count": 10,
      "outputs": []
    },
    {
      "cell_type": "code",
      "metadata": {
        "id": "kdAivUp-zLuE",
        "colab_type": "code",
        "colab": {}
      },
      "source": [
        "tokenizer = BertTokenizer.from_pretrained(\"pytorch/\", do_lower_case=False)\n",
        "model = BertForMaskedLM.from_pretrained(\"pytorch/\")\n",
        "model.eval()"
      ],
      "execution_count": null,
      "outputs": []
    },
    {
      "cell_type": "code",
      "metadata": {
        "id": "EqT04lY6zbL4",
        "colab_type": "code",
        "colab": {
          "base_uri": "https://localhost:8080/",
          "height": 68
        },
        "outputId": "9283b56f-624c-47dc-fdd5-97f258bdfec1"
      },
      "source": [
        "text = \"Ay que combatîh lâ malâ dietâ con berdurâ açâh y çêh mâh tolerantê con lô ábitô alimentiçiô\"\n",
        "\n",
        "# replace homgraphs by [MASK]\n",
        "# with open(\"homographs.csv\", \"r\") as f:\n",
        "#     reader = csv.reader(f)\n",
        "#     ...\n",
        "\n",
        "text_trans = \"Hay que [MASK] las malas dietas con verduras [MASK] y [MASK] más tolerantes con los hábitos alimenticios\"\n",
        "masked_indxs = (2,9,10)\n",
        "\n",
        "tokens = tokenizer.tokenize(text_trans)\n",
        "indexed_tokens = tokenizer.convert_tokens_to_ids(tokens)\n",
        "tokens_tensor = torch.tensor([indexed_tokens])\n",
        "\n",
        "predictions = model(tokens_tensor)[0]\n",
        "\n",
        "for i,midx in enumerate(masked_indxs):\n",
        "    idxs = torch.argsort(predictions[0, midx], descending=True)\n",
        "    predicted_token = tokenizer.convert_ids_to_tokens(idxs[:5])\n",
        "    print('MASK',i,':',predicted_token)"
      ],
      "execution_count": 12,
      "outputs": [
        {
          "output_type": "stream",
          "text": [
            "MASK 0 : ['con', 'reducir', 'evitar', 'reducen', 'a']\n",
            "MASK 1 : ['y', 'que', ',', 'a', 'porque']\n",
            "MASK 2 : ['ser', 'son', 'más', 'sean', 'somos']\n"
          ],
          "name": "stdout"
        }
      ]
    }
  ]
}