{
 "cells": [
  {
   "cell_type": "code",
   "execution_count": 2,
   "metadata": {},
   "outputs": [
    {
     "name": "stdout",
     "output_type": "stream",
     "text": [
      "(1.3774924984849888, 'esto es un ejemplo de transcripción inversa')\n",
      "(1.9296181020384835, 'esto es un ejemplo de trascripción inversa')\n",
      "(2.159485337418361, 'hecto es un ejemplo de transcripción inversa')\n",
      "(2.3012304075185983, 'esto hez un ejemplo de transcripción inversa')\n",
      "(3.1149246357376557, 'hecto hez un ejemplo de transcripción inversa')\n",
      "(3.1494174906400727, 'hecto hez un ejemplo de trascripción inversa')\n",
      "(3.167198392451841, 'hecto es un ejemplo de trascripción inversa')\n",
      "(3.2572170188591962, 'esto ex un ejemplo de trascripción inversa')\n",
      "(3.3105531892479414, 'esto hez un ejemplo de trascripción inversa')\n",
      "(3.330632788471567, 'hecto ex un ejemplo de transcripción inversa')\n",
      "(3.68521430518484, 'esto ex un ejemplo de transcripción inversa')\n",
      "(4.8558908002805445, 'hecto ex un ejemplo de trascripción inversa')\n"
     ]
    }
   ],
   "source": [
    "from invt import AndaluhToCasTranscriptor\n",
    "\n",
    "transcriptor = AndaluhToCasTranscriptor()\n",
    "ranked_candidates = transcriptor.transcript(\"Êtto êh un ehemplo de trâccrîççión imberça\")\n",
    "print(*ranked_candidates, sep=\"\\n\")"
   ]
  },
  {
   "cell_type": "code",
   "execution_count": null,
   "metadata": {},
   "outputs": [],
   "source": []
  }
 ],
 "metadata": {
  "kernelspec": {
   "display_name": "Python 3",
   "language": "python",
   "name": "python3"
  },
  "language_info": {
   "codemirror_mode": {
    "name": "ipython",
    "version": 3
   },
   "file_extension": ".py",
   "mimetype": "text/x-python",
   "name": "python",
   "nbconvert_exporter": "python",
   "pygments_lexer": "ipython3",
   "version": "3.7.6"
  }
 },
 "nbformat": 4,
 "nbformat_minor": 1
}